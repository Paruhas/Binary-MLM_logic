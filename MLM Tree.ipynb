{
 "cells": [
  {
   "cell_type": "code",
   "execution_count": 1,
   "id": "96b827bc",
   "metadata": {},
   "outputs": [
    {
     "name": "stdout",
     "output_type": "stream",
     "text": [
      "test\n"
     ]
    }
   ],
   "source": [
    "b = input()\n"
   ]
  },
  {
   "cell_type": "code",
   "execution_count": null,
   "id": "caee2c30",
   "metadata": {},
   "outputs": [],
   "source": [
    "\n",
    "each_node = "
   ]
  },
  {
   "cell_type": "code",
   "execution_count": 79,
   "id": "fe5f4e9c",
   "metadata": {},
   "outputs": [],
   "source": [
    "class Node:\n",
    "    def __init__(self, val = \"empty\",child1=None, child2=None):\n",
    "        self.val = val\n",
    "        self.child1 = child1\n",
    "        self.child2 = child2\n",
    "        self.count = 0\n",
    "        \n",
    "    def get_val(self):\n",
    "        return self.val\n",
    "    \n",
    "    def add_child(self, child):\n",
    "        if self.count>= 2:\n",
    "            return \"Error\"\n",
    "        else:\n",
    "            if self.child1 is None:\n",
    "                self.child1 = child\n",
    "                self.count += 1 \n",
    "            elif self.child2 is None:\n",
    "                self.child2 = child\n",
    "                self.count += 1\n",
    "\n",
    "    def get_count(self):\n",
    "        return self.count\n",
    "    \n",
    "    def get_allchild(self):\n",
    "        return [ self.child1 , self.child2 ] \n",
    "    \n",
    "def find_all_child(node):\n",
    "    all_member = []\n",
    "    if node.get_count() == 2:    \n",
    "        print(\"the node \" + node.val + \" is full\" )\n",
    "        all_member.append(find_all_child(node.child1))\n",
    "        all_member.append(find_all_child(node.child2))\n",
    "    \n",
    "    return all_member\n",
    "    \n",
    "#    if node.child1 is not None:\n",
    "        "
   ]
  },
  {
   "cell_type": "code",
   "execution_count": 108,
   "id": "9aa25141",
   "metadata": {},
   "outputs": [
    {
     "name": "stdout",
     "output_type": "stream",
     "text": [
      "the node a is full\n",
      "the node c is two side empty\n",
      "the node b is one side empty\n",
      "the node b is right side empty\n",
      "the node d is one side empty\n",
      "the node d is right side empty\n",
      "the node e is two side empty\n"
     ]
    }
   ],
   "source": [
    "a = Node(\"a\");\n",
    "b = Node(\"b\");\n",
    "c = Node(\"c\");\n",
    "d = Node(\"d\");\n",
    "e = Node(\"e\");\n",
    "\n",
    "\n",
    "b.add_child(d)\n",
    "d.add_child(e)\n",
    "a.add_child(b)\n",
    "a.add_child(c)\n",
    "#a.add_child(d)\n",
    "\n",
    "over_flag = 0\n",
    "all_member = []\n",
    "loop_member = []\n",
    "node = a\n",
    "while (True):\n",
    "    if node.count == 2:    \n",
    "        print(\"the node \" + node.val + \" is full\" )\n",
    "        all_member.append(node.child1)\n",
    "        all_member.append(node.child2)\n",
    "    elif node.count == 0:\n",
    "        print(\"the node \"+ node.val + \" is two side empty\")\n",
    "    elif node.count == 1:\n",
    "        print(\"the node \"+ node.val + \" is one side empty\") \n",
    "        if node.child1 is not None:\n",
    "            all_member.append(node.child1)\n",
    "            print(\"the node \"+ node.val + \" is right side empty\")\n",
    "\n",
    "        elif node.child2 is not None:\n",
    "            all_member.append(node.child2)\n",
    "            print(\"the node \"+ node.val + \" is left side empty\")\n",
    "        \n",
    "    if len(all_member) != 0:\n",
    "        node = all_member.pop()\n",
    "    else:\n",
    "        break\n"
   ]
  },
  {
   "cell_type": "code",
   "execution_count": 61,
   "id": "4b968374",
   "metadata": {},
   "outputs": [],
   "source": [
    "z = a.get_allchild()\n"
   ]
  },
  {
   "cell_type": "code",
   "execution_count": 89,
   "id": "e696a3b5",
   "metadata": {},
   "outputs": [],
   "source": [
    "temp = [1,2,3]"
   ]
  },
  {
   "cell_type": "code",
   "execution_count": 90,
   "id": "0bbdbacb",
   "metadata": {},
   "outputs": [],
   "source": [
    "b = temp.pop()"
   ]
  },
  {
   "cell_type": "code",
   "execution_count": 96,
   "id": "a1d4c6f0",
   "metadata": {},
   "outputs": [
    {
     "data": {
      "text/plain": [
       "[7, 1, 2, 5]"
      ]
     },
     "execution_count": 96,
     "metadata": {},
     "output_type": "execute_result"
    }
   ],
   "source": [
    "temp"
   ]
  },
  {
   "cell_type": "code",
   "execution_count": 93,
   "id": "d59270a5",
   "metadata": {},
   "outputs": [],
   "source": [
    "temp.append(5)"
   ]
  },
  {
   "cell_type": "code",
   "execution_count": 95,
   "id": "eb284ddc",
   "metadata": {},
   "outputs": [],
   "source": [
    "temp.insert(0,7)"
   ]
  }
 ],
 "metadata": {
  "kernelspec": {
   "display_name": "Python 3",
   "language": "python",
   "name": "python3"
  },
  "language_info": {
   "codemirror_mode": {
    "name": "ipython",
    "version": 3
   },
   "file_extension": ".py",
   "mimetype": "text/x-python",
   "name": "python",
   "nbconvert_exporter": "python",
   "pygments_lexer": "ipython3",
   "version": "3.6.13"
  }
 },
 "nbformat": 4,
 "nbformat_minor": 5
}
